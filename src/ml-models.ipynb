{
 "cells": [
  {
   "cell_type": "code",
   "execution_count": 17,
   "metadata": {},
   "outputs": [],
   "source": [
    "import numpy as np\n",
    "import pandas as pd\n",
    "import pickle\n",
    "import numpy as np\n",
    "import matplotlib.pyplot as plt"
   ]
  },
  {
   "cell_type": "code",
   "execution_count": 18,
   "metadata": {},
   "outputs": [],
   "source": [
    "df = pd.read_csv('/Users/pahulpreetsingh/Downloads/DIC/Project/bank_user_data.csv')"
   ]
  },
  {
   "cell_type": "code",
   "execution_count": 19,
   "metadata": {},
   "outputs": [],
   "source": [
    "df = df.drop([\"RowNumber\", \"CustomerId\", \"Surname\"], axis = 1)"
   ]
  },
  {
   "cell_type": "code",
   "execution_count": 20,
   "metadata": {},
   "outputs": [],
   "source": [
    "df_train = df.copy(deep=True)"
   ]
  },
  {
   "cell_type": "code",
   "execution_count": 21,
   "metadata": {},
   "outputs": [
    {
     "data": {
      "text/html": [
       "<div>\n",
       "<style scoped>\n",
       "    .dataframe tbody tr th:only-of-type {\n",
       "        vertical-align: middle;\n",
       "    }\n",
       "\n",
       "    .dataframe tbody tr th {\n",
       "        vertical-align: top;\n",
       "    }\n",
       "\n",
       "    .dataframe thead th {\n",
       "        text-align: right;\n",
       "    }\n",
       "</style>\n",
       "<table border=\"1\" class=\"dataframe\">\n",
       "  <thead>\n",
       "    <tr style=\"text-align: right;\">\n",
       "      <th></th>\n",
       "      <th>CreditScore</th>\n",
       "      <th>Geography</th>\n",
       "      <th>Gender</th>\n",
       "      <th>Age</th>\n",
       "      <th>Tenure</th>\n",
       "      <th>Balance</th>\n",
       "      <th>NumOfProducts</th>\n",
       "      <th>HasCrCard</th>\n",
       "      <th>IsActiveMember</th>\n",
       "      <th>EstimatedSalary</th>\n",
       "      <th>Exited</th>\n",
       "      <th>TenureByAge</th>\n",
       "      <th>BalanceSalaryRatio</th>\n",
       "      <th>CreditScoreGivenAge</th>\n",
       "    </tr>\n",
       "  </thead>\n",
       "  <tbody>\n",
       "    <tr>\n",
       "      <th>0</th>\n",
       "      <td>619</td>\n",
       "      <td>France</td>\n",
       "      <td>Female</td>\n",
       "      <td>42</td>\n",
       "      <td>2</td>\n",
       "      <td>0.00</td>\n",
       "      <td>1</td>\n",
       "      <td>1</td>\n",
       "      <td>1</td>\n",
       "      <td>101348.88</td>\n",
       "      <td>1</td>\n",
       "      <td>0.047619</td>\n",
       "      <td>0.000000</td>\n",
       "      <td>14.738095</td>\n",
       "    </tr>\n",
       "    <tr>\n",
       "      <th>1</th>\n",
       "      <td>608</td>\n",
       "      <td>Spain</td>\n",
       "      <td>Female</td>\n",
       "      <td>41</td>\n",
       "      <td>1</td>\n",
       "      <td>83807.86</td>\n",
       "      <td>1</td>\n",
       "      <td>0</td>\n",
       "      <td>1</td>\n",
       "      <td>112542.58</td>\n",
       "      <td>0</td>\n",
       "      <td>0.024390</td>\n",
       "      <td>0.744677</td>\n",
       "      <td>14.829268</td>\n",
       "    </tr>\n",
       "    <tr>\n",
       "      <th>2</th>\n",
       "      <td>502</td>\n",
       "      <td>France</td>\n",
       "      <td>Female</td>\n",
       "      <td>42</td>\n",
       "      <td>8</td>\n",
       "      <td>159660.80</td>\n",
       "      <td>3</td>\n",
       "      <td>1</td>\n",
       "      <td>0</td>\n",
       "      <td>113931.57</td>\n",
       "      <td>1</td>\n",
       "      <td>0.190476</td>\n",
       "      <td>1.401375</td>\n",
       "      <td>11.952381</td>\n",
       "    </tr>\n",
       "    <tr>\n",
       "      <th>3</th>\n",
       "      <td>699</td>\n",
       "      <td>France</td>\n",
       "      <td>Female</td>\n",
       "      <td>39</td>\n",
       "      <td>1</td>\n",
       "      <td>0.00</td>\n",
       "      <td>2</td>\n",
       "      <td>0</td>\n",
       "      <td>0</td>\n",
       "      <td>93826.63</td>\n",
       "      <td>0</td>\n",
       "      <td>0.025641</td>\n",
       "      <td>0.000000</td>\n",
       "      <td>17.923077</td>\n",
       "    </tr>\n",
       "    <tr>\n",
       "      <th>4</th>\n",
       "      <td>850</td>\n",
       "      <td>Spain</td>\n",
       "      <td>Female</td>\n",
       "      <td>43</td>\n",
       "      <td>2</td>\n",
       "      <td>125510.82</td>\n",
       "      <td>1</td>\n",
       "      <td>1</td>\n",
       "      <td>1</td>\n",
       "      <td>79084.10</td>\n",
       "      <td>0</td>\n",
       "      <td>0.046512</td>\n",
       "      <td>1.587055</td>\n",
       "      <td>19.767442</td>\n",
       "    </tr>\n",
       "  </tbody>\n",
       "</table>\n",
       "</div>"
      ],
      "text/plain": [
       "   CreditScore Geography  Gender  Age  Tenure    Balance  NumOfProducts  \\\n",
       "0          619    France  Female   42       2       0.00              1   \n",
       "1          608     Spain  Female   41       1   83807.86              1   \n",
       "2          502    France  Female   42       8  159660.80              3   \n",
       "3          699    France  Female   39       1       0.00              2   \n",
       "4          850     Spain  Female   43       2  125510.82              1   \n",
       "\n",
       "   HasCrCard  IsActiveMember  EstimatedSalary  Exited  TenureByAge  \\\n",
       "0          1               1        101348.88       1     0.047619   \n",
       "1          0               1        112542.58       0     0.024390   \n",
       "2          1               0        113931.57       1     0.190476   \n",
       "3          0               0         93826.63       0     0.025641   \n",
       "4          1               1         79084.10       0     0.046512   \n",
       "\n",
       "   BalanceSalaryRatio  CreditScoreGivenAge  \n",
       "0            0.000000            14.738095  \n",
       "1            0.744677            14.829268  \n",
       "2            1.401375            11.952381  \n",
       "3            0.000000            17.923077  \n",
       "4            1.587055            19.767442  "
      ]
     },
     "execution_count": 21,
     "metadata": {},
     "output_type": "execute_result"
    }
   ],
   "source": [
    "df_train['TenureByAge'] = df_train.Tenure/(df_train.Age)\n",
    "df_train['BalanceSalaryRatio'] = df_train.Balance/df_train.EstimatedSalary\n",
    "df_train['CreditScoreGivenAge'] = df_train.CreditScore/(df_train.Age)\n",
    "df_train.head()"
   ]
  },
  {
   "cell_type": "code",
   "execution_count": 22,
   "metadata": {},
   "outputs": [
    {
     "data": {
      "text/html": [
       "<div>\n",
       "<style scoped>\n",
       "    .dataframe tbody tr th:only-of-type {\n",
       "        vertical-align: middle;\n",
       "    }\n",
       "\n",
       "    .dataframe tbody tr th {\n",
       "        vertical-align: top;\n",
       "    }\n",
       "\n",
       "    .dataframe thead th {\n",
       "        text-align: right;\n",
       "    }\n",
       "</style>\n",
       "<table border=\"1\" class=\"dataframe\">\n",
       "  <thead>\n",
       "    <tr style=\"text-align: right;\">\n",
       "      <th></th>\n",
       "      <th>Exited</th>\n",
       "      <th>CreditScore</th>\n",
       "      <th>Age</th>\n",
       "      <th>Tenure</th>\n",
       "      <th>Balance</th>\n",
       "      <th>NumOfProducts</th>\n",
       "      <th>EstimatedSalary</th>\n",
       "      <th>BalanceSalaryRatio</th>\n",
       "      <th>TenureByAge</th>\n",
       "      <th>CreditScoreGivenAge</th>\n",
       "      <th>HasCrCard</th>\n",
       "      <th>IsActiveMember</th>\n",
       "      <th>Geography</th>\n",
       "      <th>Gender</th>\n",
       "    </tr>\n",
       "  </thead>\n",
       "  <tbody>\n",
       "    <tr>\n",
       "      <th>0</th>\n",
       "      <td>1</td>\n",
       "      <td>619</td>\n",
       "      <td>42</td>\n",
       "      <td>2</td>\n",
       "      <td>0.00</td>\n",
       "      <td>1</td>\n",
       "      <td>101348.88</td>\n",
       "      <td>0.000000</td>\n",
       "      <td>0.047619</td>\n",
       "      <td>14.738095</td>\n",
       "      <td>1</td>\n",
       "      <td>1</td>\n",
       "      <td>France</td>\n",
       "      <td>Female</td>\n",
       "    </tr>\n",
       "    <tr>\n",
       "      <th>1</th>\n",
       "      <td>0</td>\n",
       "      <td>608</td>\n",
       "      <td>41</td>\n",
       "      <td>1</td>\n",
       "      <td>83807.86</td>\n",
       "      <td>1</td>\n",
       "      <td>112542.58</td>\n",
       "      <td>0.744677</td>\n",
       "      <td>0.024390</td>\n",
       "      <td>14.829268</td>\n",
       "      <td>0</td>\n",
       "      <td>1</td>\n",
       "      <td>Spain</td>\n",
       "      <td>Female</td>\n",
       "    </tr>\n",
       "    <tr>\n",
       "      <th>2</th>\n",
       "      <td>1</td>\n",
       "      <td>502</td>\n",
       "      <td>42</td>\n",
       "      <td>8</td>\n",
       "      <td>159660.80</td>\n",
       "      <td>3</td>\n",
       "      <td>113931.57</td>\n",
       "      <td>1.401375</td>\n",
       "      <td>0.190476</td>\n",
       "      <td>11.952381</td>\n",
       "      <td>1</td>\n",
       "      <td>0</td>\n",
       "      <td>France</td>\n",
       "      <td>Female</td>\n",
       "    </tr>\n",
       "    <tr>\n",
       "      <th>3</th>\n",
       "      <td>0</td>\n",
       "      <td>699</td>\n",
       "      <td>39</td>\n",
       "      <td>1</td>\n",
       "      <td>0.00</td>\n",
       "      <td>2</td>\n",
       "      <td>93826.63</td>\n",
       "      <td>0.000000</td>\n",
       "      <td>0.025641</td>\n",
       "      <td>17.923077</td>\n",
       "      <td>0</td>\n",
       "      <td>0</td>\n",
       "      <td>France</td>\n",
       "      <td>Female</td>\n",
       "    </tr>\n",
       "    <tr>\n",
       "      <th>4</th>\n",
       "      <td>0</td>\n",
       "      <td>850</td>\n",
       "      <td>43</td>\n",
       "      <td>2</td>\n",
       "      <td>125510.82</td>\n",
       "      <td>1</td>\n",
       "      <td>79084.10</td>\n",
       "      <td>1.587055</td>\n",
       "      <td>0.046512</td>\n",
       "      <td>19.767442</td>\n",
       "      <td>1</td>\n",
       "      <td>1</td>\n",
       "      <td>Spain</td>\n",
       "      <td>Female</td>\n",
       "    </tr>\n",
       "  </tbody>\n",
       "</table>\n",
       "</div>"
      ],
      "text/plain": [
       "   Exited  CreditScore  Age  Tenure    Balance  NumOfProducts  \\\n",
       "0       1          619   42       2       0.00              1   \n",
       "1       0          608   41       1   83807.86              1   \n",
       "2       1          502   42       8  159660.80              3   \n",
       "3       0          699   39       1       0.00              2   \n",
       "4       0          850   43       2  125510.82              1   \n",
       "\n",
       "   EstimatedSalary  BalanceSalaryRatio  TenureByAge  CreditScoreGivenAge  \\\n",
       "0        101348.88            0.000000     0.047619            14.738095   \n",
       "1        112542.58            0.744677     0.024390            14.829268   \n",
       "2        113931.57            1.401375     0.190476            11.952381   \n",
       "3         93826.63            0.000000     0.025641            17.923077   \n",
       "4         79084.10            1.587055     0.046512            19.767442   \n",
       "\n",
       "   HasCrCard  IsActiveMember Geography  Gender  \n",
       "0          1               1    France  Female  \n",
       "1          0               1     Spain  Female  \n",
       "2          1               0    France  Female  \n",
       "3          0               0    France  Female  \n",
       "4          1               1     Spain  Female  "
      ]
     },
     "execution_count": 22,
     "metadata": {},
     "output_type": "execute_result"
    }
   ],
   "source": [
    "# Arrange columns by data type for easier manipulation\n",
    "continuous_vars = ['CreditScore',  'Age', 'Tenure', 'Balance','NumOfProducts', 'EstimatedSalary', 'BalanceSalaryRatio',\n",
    "                   'TenureByAge','CreditScoreGivenAge']\n",
    "cat_vars = ['HasCrCard', 'IsActiveMember','Geography', 'Gender']\n",
    "df_train = df_train[['Exited'] + continuous_vars + cat_vars]\n",
    "df_train.head()"
   ]
  },
  {
   "cell_type": "code",
   "execution_count": 23,
   "metadata": {},
   "outputs": [
    {
     "data": {
      "text/html": [
       "<div>\n",
       "<style scoped>\n",
       "    .dataframe tbody tr th:only-of-type {\n",
       "        vertical-align: middle;\n",
       "    }\n",
       "\n",
       "    .dataframe tbody tr th {\n",
       "        vertical-align: top;\n",
       "    }\n",
       "\n",
       "    .dataframe thead th {\n",
       "        text-align: right;\n",
       "    }\n",
       "</style>\n",
       "<table border=\"1\" class=\"dataframe\">\n",
       "  <thead>\n",
       "    <tr style=\"text-align: right;\">\n",
       "      <th></th>\n",
       "      <th>Exited</th>\n",
       "      <th>CreditScore</th>\n",
       "      <th>Age</th>\n",
       "      <th>Tenure</th>\n",
       "      <th>Balance</th>\n",
       "      <th>NumOfProducts</th>\n",
       "      <th>EstimatedSalary</th>\n",
       "      <th>BalanceSalaryRatio</th>\n",
       "      <th>TenureByAge</th>\n",
       "      <th>CreditScoreGivenAge</th>\n",
       "      <th>HasCrCard</th>\n",
       "      <th>IsActiveMember</th>\n",
       "      <th>Geography</th>\n",
       "      <th>Gender</th>\n",
       "    </tr>\n",
       "  </thead>\n",
       "  <tbody>\n",
       "    <tr>\n",
       "      <th>0</th>\n",
       "      <td>1</td>\n",
       "      <td>619</td>\n",
       "      <td>42</td>\n",
       "      <td>2</td>\n",
       "      <td>0.00</td>\n",
       "      <td>1</td>\n",
       "      <td>101348.88</td>\n",
       "      <td>0.000000</td>\n",
       "      <td>0.047619</td>\n",
       "      <td>14.738095</td>\n",
       "      <td>1</td>\n",
       "      <td>1</td>\n",
       "      <td>France</td>\n",
       "      <td>Female</td>\n",
       "    </tr>\n",
       "    <tr>\n",
       "      <th>1</th>\n",
       "      <td>0</td>\n",
       "      <td>608</td>\n",
       "      <td>41</td>\n",
       "      <td>1</td>\n",
       "      <td>83807.86</td>\n",
       "      <td>1</td>\n",
       "      <td>112542.58</td>\n",
       "      <td>0.744677</td>\n",
       "      <td>0.024390</td>\n",
       "      <td>14.829268</td>\n",
       "      <td>-1</td>\n",
       "      <td>1</td>\n",
       "      <td>Spain</td>\n",
       "      <td>Female</td>\n",
       "    </tr>\n",
       "    <tr>\n",
       "      <th>2</th>\n",
       "      <td>1</td>\n",
       "      <td>502</td>\n",
       "      <td>42</td>\n",
       "      <td>8</td>\n",
       "      <td>159660.80</td>\n",
       "      <td>3</td>\n",
       "      <td>113931.57</td>\n",
       "      <td>1.401375</td>\n",
       "      <td>0.190476</td>\n",
       "      <td>11.952381</td>\n",
       "      <td>1</td>\n",
       "      <td>-1</td>\n",
       "      <td>France</td>\n",
       "      <td>Female</td>\n",
       "    </tr>\n",
       "    <tr>\n",
       "      <th>3</th>\n",
       "      <td>0</td>\n",
       "      <td>699</td>\n",
       "      <td>39</td>\n",
       "      <td>1</td>\n",
       "      <td>0.00</td>\n",
       "      <td>2</td>\n",
       "      <td>93826.63</td>\n",
       "      <td>0.000000</td>\n",
       "      <td>0.025641</td>\n",
       "      <td>17.923077</td>\n",
       "      <td>-1</td>\n",
       "      <td>-1</td>\n",
       "      <td>France</td>\n",
       "      <td>Female</td>\n",
       "    </tr>\n",
       "    <tr>\n",
       "      <th>4</th>\n",
       "      <td>0</td>\n",
       "      <td>850</td>\n",
       "      <td>43</td>\n",
       "      <td>2</td>\n",
       "      <td>125510.82</td>\n",
       "      <td>1</td>\n",
       "      <td>79084.10</td>\n",
       "      <td>1.587055</td>\n",
       "      <td>0.046512</td>\n",
       "      <td>19.767442</td>\n",
       "      <td>1</td>\n",
       "      <td>1</td>\n",
       "      <td>Spain</td>\n",
       "      <td>Female</td>\n",
       "    </tr>\n",
       "  </tbody>\n",
       "</table>\n",
       "</div>"
      ],
      "text/plain": [
       "   Exited  CreditScore  Age  Tenure    Balance  NumOfProducts  \\\n",
       "0       1          619   42       2       0.00              1   \n",
       "1       0          608   41       1   83807.86              1   \n",
       "2       1          502   42       8  159660.80              3   \n",
       "3       0          699   39       1       0.00              2   \n",
       "4       0          850   43       2  125510.82              1   \n",
       "\n",
       "   EstimatedSalary  BalanceSalaryRatio  TenureByAge  CreditScoreGivenAge  \\\n",
       "0        101348.88            0.000000     0.047619            14.738095   \n",
       "1        112542.58            0.744677     0.024390            14.829268   \n",
       "2        113931.57            1.401375     0.190476            11.952381   \n",
       "3         93826.63            0.000000     0.025641            17.923077   \n",
       "4         79084.10            1.587055     0.046512            19.767442   \n",
       "\n",
       "   HasCrCard  IsActiveMember Geography  Gender  \n",
       "0          1               1    France  Female  \n",
       "1         -1               1     Spain  Female  \n",
       "2          1              -1    France  Female  \n",
       "3         -1              -1    France  Female  \n",
       "4          1               1     Spain  Female  "
      ]
     },
     "execution_count": 23,
     "metadata": {},
     "output_type": "execute_result"
    }
   ],
   "source": [
    "'''For the one hot variables, we change 0 to -1 so that the models can capture a negative relation \n",
    "where the attribute in inapplicable instead of 0'''\n",
    "df_train.loc[df_train.HasCrCard == 0, 'HasCrCard'] = -1\n",
    "df_train.loc[df_train.IsActiveMember == 0, 'IsActiveMember'] = -1\n",
    "df_train.head()"
   ]
  },
  {
   "cell_type": "code",
   "execution_count": 24,
   "metadata": {},
   "outputs": [
    {
     "name": "stderr",
     "output_type": "stream",
     "text": [
      "/var/folders/mf/4xz0t1v57dd24kxr62jgbgxm0000gn/T/ipykernel_13944/366624441.py:5: DeprecationWarning: `np.str` is a deprecated alias for the builtin `str`. To silence this warning, use `str` by itself. Doing this will not modify any behavior and is safe. If you specifically wanted the numpy scalar type, use `np.str_` here.\n",
      "Deprecated in NumPy 1.20; for more details and guidance: https://numpy.org/devdocs/release/1.20.0-notes.html#deprecations\n",
      "  if (df_train[i].dtype == np.str or df_train[i].dtype == np.object):\n",
      "/var/folders/mf/4xz0t1v57dd24kxr62jgbgxm0000gn/T/ipykernel_13944/366624441.py:5: DeprecationWarning: `np.object` is a deprecated alias for the builtin `object`. To silence this warning, use `object` by itself. Doing this will not modify any behavior and is safe. \n",
      "Deprecated in NumPy 1.20; for more details and guidance: https://numpy.org/devdocs/release/1.20.0-notes.html#deprecations\n",
      "  if (df_train[i].dtype == np.str or df_train[i].dtype == np.object):\n",
      "/var/folders/mf/4xz0t1v57dd24kxr62jgbgxm0000gn/T/ipykernel_13944/366624441.py:5: DeprecationWarning: `np.str` is a deprecated alias for the builtin `str`. To silence this warning, use `str` by itself. Doing this will not modify any behavior and is safe. If you specifically wanted the numpy scalar type, use `np.str_` here.\n",
      "Deprecated in NumPy 1.20; for more details and guidance: https://numpy.org/devdocs/release/1.20.0-notes.html#deprecations\n",
      "  if (df_train[i].dtype == np.str or df_train[i].dtype == np.object):\n",
      "/var/folders/mf/4xz0t1v57dd24kxr62jgbgxm0000gn/T/ipykernel_13944/366624441.py:5: DeprecationWarning: `np.object` is a deprecated alias for the builtin `object`. To silence this warning, use `object` by itself. Doing this will not modify any behavior and is safe. \n",
      "Deprecated in NumPy 1.20; for more details and guidance: https://numpy.org/devdocs/release/1.20.0-notes.html#deprecations\n",
      "  if (df_train[i].dtype == np.str or df_train[i].dtype == np.object):\n"
     ]
    },
    {
     "data": {
      "text/html": [
       "<div>\n",
       "<style scoped>\n",
       "    .dataframe tbody tr th:only-of-type {\n",
       "        vertical-align: middle;\n",
       "    }\n",
       "\n",
       "    .dataframe tbody tr th {\n",
       "        vertical-align: top;\n",
       "    }\n",
       "\n",
       "    .dataframe thead th {\n",
       "        text-align: right;\n",
       "    }\n",
       "</style>\n",
       "<table border=\"1\" class=\"dataframe\">\n",
       "  <thead>\n",
       "    <tr style=\"text-align: right;\">\n",
       "      <th></th>\n",
       "      <th>Exited</th>\n",
       "      <th>CreditScore</th>\n",
       "      <th>Age</th>\n",
       "      <th>Tenure</th>\n",
       "      <th>Balance</th>\n",
       "      <th>NumOfProducts</th>\n",
       "      <th>EstimatedSalary</th>\n",
       "      <th>BalanceSalaryRatio</th>\n",
       "      <th>TenureByAge</th>\n",
       "      <th>CreditScoreGivenAge</th>\n",
       "      <th>HasCrCard</th>\n",
       "      <th>IsActiveMember</th>\n",
       "      <th>Geography_France</th>\n",
       "      <th>Geography_Spain</th>\n",
       "      <th>Geography_Germany</th>\n",
       "      <th>Gender_Female</th>\n",
       "      <th>Gender_Male</th>\n",
       "    </tr>\n",
       "  </thead>\n",
       "  <tbody>\n",
       "    <tr>\n",
       "      <th>0</th>\n",
       "      <td>1</td>\n",
       "      <td>619</td>\n",
       "      <td>42</td>\n",
       "      <td>2</td>\n",
       "      <td>0.00</td>\n",
       "      <td>1</td>\n",
       "      <td>101348.88</td>\n",
       "      <td>0.000000</td>\n",
       "      <td>0.047619</td>\n",
       "      <td>14.738095</td>\n",
       "      <td>1</td>\n",
       "      <td>1</td>\n",
       "      <td>1</td>\n",
       "      <td>-1</td>\n",
       "      <td>-1</td>\n",
       "      <td>1</td>\n",
       "      <td>-1</td>\n",
       "    </tr>\n",
       "    <tr>\n",
       "      <th>1</th>\n",
       "      <td>0</td>\n",
       "      <td>608</td>\n",
       "      <td>41</td>\n",
       "      <td>1</td>\n",
       "      <td>83807.86</td>\n",
       "      <td>1</td>\n",
       "      <td>112542.58</td>\n",
       "      <td>0.744677</td>\n",
       "      <td>0.024390</td>\n",
       "      <td>14.829268</td>\n",
       "      <td>-1</td>\n",
       "      <td>1</td>\n",
       "      <td>-1</td>\n",
       "      <td>1</td>\n",
       "      <td>-1</td>\n",
       "      <td>1</td>\n",
       "      <td>-1</td>\n",
       "    </tr>\n",
       "    <tr>\n",
       "      <th>2</th>\n",
       "      <td>1</td>\n",
       "      <td>502</td>\n",
       "      <td>42</td>\n",
       "      <td>8</td>\n",
       "      <td>159660.80</td>\n",
       "      <td>3</td>\n",
       "      <td>113931.57</td>\n",
       "      <td>1.401375</td>\n",
       "      <td>0.190476</td>\n",
       "      <td>11.952381</td>\n",
       "      <td>1</td>\n",
       "      <td>-1</td>\n",
       "      <td>1</td>\n",
       "      <td>-1</td>\n",
       "      <td>-1</td>\n",
       "      <td>1</td>\n",
       "      <td>-1</td>\n",
       "    </tr>\n",
       "    <tr>\n",
       "      <th>3</th>\n",
       "      <td>0</td>\n",
       "      <td>699</td>\n",
       "      <td>39</td>\n",
       "      <td>1</td>\n",
       "      <td>0.00</td>\n",
       "      <td>2</td>\n",
       "      <td>93826.63</td>\n",
       "      <td>0.000000</td>\n",
       "      <td>0.025641</td>\n",
       "      <td>17.923077</td>\n",
       "      <td>-1</td>\n",
       "      <td>-1</td>\n",
       "      <td>1</td>\n",
       "      <td>-1</td>\n",
       "      <td>-1</td>\n",
       "      <td>1</td>\n",
       "      <td>-1</td>\n",
       "    </tr>\n",
       "    <tr>\n",
       "      <th>4</th>\n",
       "      <td>0</td>\n",
       "      <td>850</td>\n",
       "      <td>43</td>\n",
       "      <td>2</td>\n",
       "      <td>125510.82</td>\n",
       "      <td>1</td>\n",
       "      <td>79084.10</td>\n",
       "      <td>1.587055</td>\n",
       "      <td>0.046512</td>\n",
       "      <td>19.767442</td>\n",
       "      <td>1</td>\n",
       "      <td>1</td>\n",
       "      <td>-1</td>\n",
       "      <td>1</td>\n",
       "      <td>-1</td>\n",
       "      <td>1</td>\n",
       "      <td>-1</td>\n",
       "    </tr>\n",
       "  </tbody>\n",
       "</table>\n",
       "</div>"
      ],
      "text/plain": [
       "   Exited  CreditScore  Age  Tenure    Balance  NumOfProducts  \\\n",
       "0       1          619   42       2       0.00              1   \n",
       "1       0          608   41       1   83807.86              1   \n",
       "2       1          502   42       8  159660.80              3   \n",
       "3       0          699   39       1       0.00              2   \n",
       "4       0          850   43       2  125510.82              1   \n",
       "\n",
       "   EstimatedSalary  BalanceSalaryRatio  TenureByAge  CreditScoreGivenAge  \\\n",
       "0        101348.88            0.000000     0.047619            14.738095   \n",
       "1        112542.58            0.744677     0.024390            14.829268   \n",
       "2        113931.57            1.401375     0.190476            11.952381   \n",
       "3         93826.63            0.000000     0.025641            17.923077   \n",
       "4         79084.10            1.587055     0.046512            19.767442   \n",
       "\n",
       "   HasCrCard  IsActiveMember  Geography_France  Geography_Spain  \\\n",
       "0          1               1                 1               -1   \n",
       "1         -1               1                -1                1   \n",
       "2          1              -1                 1               -1   \n",
       "3         -1              -1                 1               -1   \n",
       "4          1               1                -1                1   \n",
       "\n",
       "   Geography_Germany  Gender_Female  Gender_Male  \n",
       "0                 -1              1           -1  \n",
       "1                 -1              1           -1  \n",
       "2                 -1              1           -1  \n",
       "3                 -1              1           -1  \n",
       "4                 -1              1           -1  "
      ]
     },
     "execution_count": 24,
     "metadata": {},
     "output_type": "execute_result"
    }
   ],
   "source": [
    "# One hot encode the categorical variables\n",
    "lst = ['Geography', 'Gender']\n",
    "remove = list()\n",
    "for i in lst:\n",
    "    if (df_train[i].dtype == np.str or df_train[i].dtype == np.object):\n",
    "        for j in df_train[i].unique():\n",
    "            df_train[i+'_'+j] = np.where(df_train[i] == j,1,-1)\n",
    "        remove.append(i)\n",
    "df_train = df_train.drop(remove, axis=1)\n",
    "df_train.head()"
   ]
  },
  {
   "cell_type": "code",
   "execution_count": 25,
   "metadata": {},
   "outputs": [
    {
     "data": {
      "text/html": [
       "<div>\n",
       "<style scoped>\n",
       "    .dataframe tbody tr th:only-of-type {\n",
       "        vertical-align: middle;\n",
       "    }\n",
       "\n",
       "    .dataframe tbody tr th {\n",
       "        vertical-align: top;\n",
       "    }\n",
       "\n",
       "    .dataframe thead th {\n",
       "        text-align: right;\n",
       "    }\n",
       "</style>\n",
       "<table border=\"1\" class=\"dataframe\">\n",
       "  <thead>\n",
       "    <tr style=\"text-align: right;\">\n",
       "      <th></th>\n",
       "      <th>Exited</th>\n",
       "      <th>CreditScore</th>\n",
       "      <th>Age</th>\n",
       "      <th>Tenure</th>\n",
       "      <th>Balance</th>\n",
       "      <th>NumOfProducts</th>\n",
       "      <th>EstimatedSalary</th>\n",
       "      <th>BalanceSalaryRatio</th>\n",
       "      <th>TenureByAge</th>\n",
       "      <th>CreditScoreGivenAge</th>\n",
       "      <th>HasCrCard</th>\n",
       "      <th>IsActiveMember</th>\n",
       "      <th>Geography_France</th>\n",
       "      <th>Geography_Spain</th>\n",
       "      <th>Geography_Germany</th>\n",
       "      <th>Gender_Female</th>\n",
       "      <th>Gender_Male</th>\n",
       "    </tr>\n",
       "  </thead>\n",
       "  <tbody>\n",
       "    <tr>\n",
       "      <th>0</th>\n",
       "      <td>1</td>\n",
       "      <td>0.538</td>\n",
       "      <td>0.324324</td>\n",
       "      <td>0.2</td>\n",
       "      <td>0.000000</td>\n",
       "      <td>0.000000</td>\n",
       "      <td>0.506735</td>\n",
       "      <td>0.000000</td>\n",
       "      <td>0.085714</td>\n",
       "      <td>0.235083</td>\n",
       "      <td>1</td>\n",
       "      <td>1</td>\n",
       "      <td>1</td>\n",
       "      <td>-1</td>\n",
       "      <td>-1</td>\n",
       "      <td>1</td>\n",
       "      <td>-1</td>\n",
       "    </tr>\n",
       "    <tr>\n",
       "      <th>1</th>\n",
       "      <td>0</td>\n",
       "      <td>0.516</td>\n",
       "      <td>0.310811</td>\n",
       "      <td>0.1</td>\n",
       "      <td>0.334031</td>\n",
       "      <td>0.000000</td>\n",
       "      <td>0.562709</td>\n",
       "      <td>0.000070</td>\n",
       "      <td>0.043902</td>\n",
       "      <td>0.237252</td>\n",
       "      <td>-1</td>\n",
       "      <td>1</td>\n",
       "      <td>-1</td>\n",
       "      <td>1</td>\n",
       "      <td>-1</td>\n",
       "      <td>1</td>\n",
       "      <td>-1</td>\n",
       "    </tr>\n",
       "    <tr>\n",
       "      <th>2</th>\n",
       "      <td>1</td>\n",
       "      <td>0.304</td>\n",
       "      <td>0.324324</td>\n",
       "      <td>0.8</td>\n",
       "      <td>0.636357</td>\n",
       "      <td>0.666667</td>\n",
       "      <td>0.569654</td>\n",
       "      <td>0.000132</td>\n",
       "      <td>0.342857</td>\n",
       "      <td>0.168807</td>\n",
       "      <td>1</td>\n",
       "      <td>-1</td>\n",
       "      <td>1</td>\n",
       "      <td>-1</td>\n",
       "      <td>-1</td>\n",
       "      <td>1</td>\n",
       "      <td>-1</td>\n",
       "    </tr>\n",
       "    <tr>\n",
       "      <th>3</th>\n",
       "      <td>0</td>\n",
       "      <td>0.698</td>\n",
       "      <td>0.283784</td>\n",
       "      <td>0.1</td>\n",
       "      <td>0.000000</td>\n",
       "      <td>0.333333</td>\n",
       "      <td>0.469120</td>\n",
       "      <td>0.000000</td>\n",
       "      <td>0.046154</td>\n",
       "      <td>0.310859</td>\n",
       "      <td>-1</td>\n",
       "      <td>-1</td>\n",
       "      <td>1</td>\n",
       "      <td>-1</td>\n",
       "      <td>-1</td>\n",
       "      <td>1</td>\n",
       "      <td>-1</td>\n",
       "    </tr>\n",
       "    <tr>\n",
       "      <th>4</th>\n",
       "      <td>0</td>\n",
       "      <td>1.000</td>\n",
       "      <td>0.337838</td>\n",
       "      <td>0.2</td>\n",
       "      <td>0.500246</td>\n",
       "      <td>0.000000</td>\n",
       "      <td>0.395400</td>\n",
       "      <td>0.000150</td>\n",
       "      <td>0.083721</td>\n",
       "      <td>0.354739</td>\n",
       "      <td>1</td>\n",
       "      <td>1</td>\n",
       "      <td>-1</td>\n",
       "      <td>1</td>\n",
       "      <td>-1</td>\n",
       "      <td>1</td>\n",
       "      <td>-1</td>\n",
       "    </tr>\n",
       "  </tbody>\n",
       "</table>\n",
       "</div>"
      ],
      "text/plain": [
       "   Exited  CreditScore       Age  Tenure   Balance  NumOfProducts  \\\n",
       "0       1        0.538  0.324324     0.2  0.000000       0.000000   \n",
       "1       0        0.516  0.310811     0.1  0.334031       0.000000   \n",
       "2       1        0.304  0.324324     0.8  0.636357       0.666667   \n",
       "3       0        0.698  0.283784     0.1  0.000000       0.333333   \n",
       "4       0        1.000  0.337838     0.2  0.500246       0.000000   \n",
       "\n",
       "   EstimatedSalary  BalanceSalaryRatio  TenureByAge  CreditScoreGivenAge  \\\n",
       "0         0.506735            0.000000     0.085714             0.235083   \n",
       "1         0.562709            0.000070     0.043902             0.237252   \n",
       "2         0.569654            0.000132     0.342857             0.168807   \n",
       "3         0.469120            0.000000     0.046154             0.310859   \n",
       "4         0.395400            0.000150     0.083721             0.354739   \n",
       "\n",
       "   HasCrCard  IsActiveMember  Geography_France  Geography_Spain  \\\n",
       "0          1               1                 1               -1   \n",
       "1         -1               1                -1                1   \n",
       "2          1              -1                 1               -1   \n",
       "3         -1              -1                 1               -1   \n",
       "4          1               1                -1                1   \n",
       "\n",
       "   Geography_Germany  Gender_Female  Gender_Male  \n",
       "0                 -1              1           -1  \n",
       "1                 -1              1           -1  \n",
       "2                 -1              1           -1  \n",
       "3                 -1              1           -1  \n",
       "4                 -1              1           -1  "
      ]
     },
     "execution_count": 25,
     "metadata": {},
     "output_type": "execute_result"
    }
   ],
   "source": [
    "# minMax scaling the continuous variables\n",
    "minVec = df_train[continuous_vars].min().copy()\n",
    "maxVec = df_train[continuous_vars].max().copy()\n",
    "df_train[continuous_vars] = (df_train[continuous_vars]-minVec)/(maxVec-minVec)\n",
    "df_train.head()"
   ]
  },
  {
   "cell_type": "code",
   "execution_count": 26,
   "metadata": {},
   "outputs": [],
   "source": [
    "#preparing data for split and prediction\n",
    "features = df_train.drop(['Exited'], axis = 1)\n",
    "predict = df_train['Exited']"
   ]
  },
  {
   "cell_type": "code",
   "execution_count": 27,
   "metadata": {},
   "outputs": [],
   "source": [
    "# Support functions\n",
    "from sklearn.preprocessing import PolynomialFeatures\n",
    "from sklearn.model_selection import cross_val_score\n",
    "from sklearn.model_selection import GridSearchCV\n",
    "from scipy.stats import uniform\n",
    "from sklearn.model_selection import train_test_split \n",
    "from sklearn.inspection import permutation_importance\n",
    "from sklearn import metrics as metrics\n",
    "\n",
    "# Fit models\n",
    "from sklearn.linear_model import LogisticRegression\n",
    "from sklearn.svm import SVC\n",
    "from sklearn.ensemble import RandomForestClassifier\n",
    "from xgboost import XGBClassifier\n",
    "\n",
    "# Scoring functions\n",
    "from sklearn.metrics import accuracy_score\n",
    "from sklearn.metrics import classification_report\n",
    "from sklearn.metrics import roc_auc_score\n",
    "from sklearn.metrics import roc_curve\n",
    "from sklearn.metrics import confusion_matrix\n",
    "from sklearn.metrics import f1_score"
   ]
  },
  {
   "cell_type": "code",
   "execution_count": 28,
   "metadata": {},
   "outputs": [
    {
     "name": "stdout",
     "output_type": "stream",
     "text": [
      "Training set has 8000 samples.\n",
      "Testing set has 2000 samples.\n"
     ]
    }
   ],
   "source": [
    "#split tha data\n",
    "X_train, X_test, y_train, y_test = train_test_split(features, predict, test_size = 0.2,random_state = 200)\n",
    "# Show the results of the split\n",
    "print(\"Training set has {} samples.\".format(X_train.shape[0]))\n",
    "print(\"Testing set has {} samples.\".format(X_test.shape[0]))"
   ]
  },
  {
   "cell_type": "code",
   "execution_count": 29,
   "metadata": {},
   "outputs": [
    {
     "data": {
      "text/html": [
       "<div>\n",
       "<style scoped>\n",
       "    .dataframe tbody tr th:only-of-type {\n",
       "        vertical-align: middle;\n",
       "    }\n",
       "\n",
       "    .dataframe tbody tr th {\n",
       "        vertical-align: top;\n",
       "    }\n",
       "\n",
       "    .dataframe thead th {\n",
       "        text-align: right;\n",
       "    }\n",
       "</style>\n",
       "<table border=\"1\" class=\"dataframe\">\n",
       "  <thead>\n",
       "    <tr style=\"text-align: right;\">\n",
       "      <th></th>\n",
       "      <th>Exited</th>\n",
       "      <th>CreditScore</th>\n",
       "      <th>Age</th>\n",
       "      <th>Tenure</th>\n",
       "      <th>Balance</th>\n",
       "      <th>NumOfProducts</th>\n",
       "      <th>EstimatedSalary</th>\n",
       "      <th>BalanceSalaryRatio</th>\n",
       "      <th>TenureByAge</th>\n",
       "      <th>CreditScoreGivenAge</th>\n",
       "      <th>HasCrCard</th>\n",
       "      <th>IsActiveMember</th>\n",
       "      <th>Geography_France</th>\n",
       "      <th>Geography_Spain</th>\n",
       "      <th>Geography_Germany</th>\n",
       "      <th>Gender_Female</th>\n",
       "      <th>Gender_Male</th>\n",
       "    </tr>\n",
       "  </thead>\n",
       "  <tbody>\n",
       "    <tr>\n",
       "      <th>0</th>\n",
       "      <td>1</td>\n",
       "      <td>0.538</td>\n",
       "      <td>0.324324</td>\n",
       "      <td>0.2</td>\n",
       "      <td>0.000000</td>\n",
       "      <td>0.000000</td>\n",
       "      <td>0.506735</td>\n",
       "      <td>0.000000</td>\n",
       "      <td>0.085714</td>\n",
       "      <td>0.235083</td>\n",
       "      <td>1</td>\n",
       "      <td>1</td>\n",
       "      <td>1</td>\n",
       "      <td>-1</td>\n",
       "      <td>-1</td>\n",
       "      <td>1</td>\n",
       "      <td>-1</td>\n",
       "    </tr>\n",
       "    <tr>\n",
       "      <th>1</th>\n",
       "      <td>0</td>\n",
       "      <td>0.516</td>\n",
       "      <td>0.310811</td>\n",
       "      <td>0.1</td>\n",
       "      <td>0.334031</td>\n",
       "      <td>0.000000</td>\n",
       "      <td>0.562709</td>\n",
       "      <td>0.000070</td>\n",
       "      <td>0.043902</td>\n",
       "      <td>0.237252</td>\n",
       "      <td>-1</td>\n",
       "      <td>1</td>\n",
       "      <td>-1</td>\n",
       "      <td>1</td>\n",
       "      <td>-1</td>\n",
       "      <td>1</td>\n",
       "      <td>-1</td>\n",
       "    </tr>\n",
       "    <tr>\n",
       "      <th>2</th>\n",
       "      <td>1</td>\n",
       "      <td>0.304</td>\n",
       "      <td>0.324324</td>\n",
       "      <td>0.8</td>\n",
       "      <td>0.636357</td>\n",
       "      <td>0.666667</td>\n",
       "      <td>0.569654</td>\n",
       "      <td>0.000132</td>\n",
       "      <td>0.342857</td>\n",
       "      <td>0.168807</td>\n",
       "      <td>1</td>\n",
       "      <td>-1</td>\n",
       "      <td>1</td>\n",
       "      <td>-1</td>\n",
       "      <td>-1</td>\n",
       "      <td>1</td>\n",
       "      <td>-1</td>\n",
       "    </tr>\n",
       "    <tr>\n",
       "      <th>3</th>\n",
       "      <td>0</td>\n",
       "      <td>0.698</td>\n",
       "      <td>0.283784</td>\n",
       "      <td>0.1</td>\n",
       "      <td>0.000000</td>\n",
       "      <td>0.333333</td>\n",
       "      <td>0.469120</td>\n",
       "      <td>0.000000</td>\n",
       "      <td>0.046154</td>\n",
       "      <td>0.310859</td>\n",
       "      <td>-1</td>\n",
       "      <td>-1</td>\n",
       "      <td>1</td>\n",
       "      <td>-1</td>\n",
       "      <td>-1</td>\n",
       "      <td>1</td>\n",
       "      <td>-1</td>\n",
       "    </tr>\n",
       "    <tr>\n",
       "      <th>4</th>\n",
       "      <td>0</td>\n",
       "      <td>1.000</td>\n",
       "      <td>0.337838</td>\n",
       "      <td>0.2</td>\n",
       "      <td>0.500246</td>\n",
       "      <td>0.000000</td>\n",
       "      <td>0.395400</td>\n",
       "      <td>0.000150</td>\n",
       "      <td>0.083721</td>\n",
       "      <td>0.354739</td>\n",
       "      <td>1</td>\n",
       "      <td>1</td>\n",
       "      <td>-1</td>\n",
       "      <td>1</td>\n",
       "      <td>-1</td>\n",
       "      <td>1</td>\n",
       "      <td>-1</td>\n",
       "    </tr>\n",
       "  </tbody>\n",
       "</table>\n",
       "</div>"
      ],
      "text/plain": [
       "   Exited  CreditScore       Age  Tenure   Balance  NumOfProducts  \\\n",
       "0       1        0.538  0.324324     0.2  0.000000       0.000000   \n",
       "1       0        0.516  0.310811     0.1  0.334031       0.000000   \n",
       "2       1        0.304  0.324324     0.8  0.636357       0.666667   \n",
       "3       0        0.698  0.283784     0.1  0.000000       0.333333   \n",
       "4       0        1.000  0.337838     0.2  0.500246       0.000000   \n",
       "\n",
       "   EstimatedSalary  BalanceSalaryRatio  TenureByAge  CreditScoreGivenAge  \\\n",
       "0         0.506735            0.000000     0.085714             0.235083   \n",
       "1         0.562709            0.000070     0.043902             0.237252   \n",
       "2         0.569654            0.000132     0.342857             0.168807   \n",
       "3         0.469120            0.000000     0.046154             0.310859   \n",
       "4         0.395400            0.000150     0.083721             0.354739   \n",
       "\n",
       "   HasCrCard  IsActiveMember  Geography_France  Geography_Spain  \\\n",
       "0          1               1                 1               -1   \n",
       "1         -1               1                -1                1   \n",
       "2          1              -1                 1               -1   \n",
       "3         -1              -1                 1               -1   \n",
       "4          1               1                -1                1   \n",
       "\n",
       "   Geography_Germany  Gender_Female  Gender_Male  \n",
       "0                 -1              1           -1  \n",
       "1                 -1              1           -1  \n",
       "2                 -1              1           -1  \n",
       "3                 -1              1           -1  \n",
       "4                 -1              1           -1  "
      ]
     },
     "execution_count": 29,
     "metadata": {},
     "output_type": "execute_result"
    }
   ],
   "source": [
    "df_train.head()"
   ]
  },
  {
   "cell_type": "markdown",
   "metadata": {},
   "source": [
    "Logistic Regression"
   ]
  },
  {
   "cell_type": "code",
   "execution_count": 30,
   "metadata": {},
   "outputs": [
    {
     "name": "stdout",
     "output_type": "stream",
     "text": [
      "Accuracy Score for testing set :0.7935\n",
      "Specificity 0.9618563254926892\n",
      "Sensitivity 0.17330210772833723\n",
      "F1 0.2638146167557932\n"
     ]
    }
   ],
   "source": [
    "# using Logistic Regresiion algorithm to build first model\n",
    "logreg_model = LogisticRegression(random_state=42, C=0.8, solver='liblinear')\n",
    "fit = logreg_model.fit(X_train, y_train)\n",
    "fit_prediction_train = fit.predict(X_train)\n",
    "fit_prediction_test = fit.predict(X_test)\n",
    "\n",
    "#validation of  Logistic Regresiion\n",
    "print('Accuracy Score for testing set :' +'{}'.format(accuracy_score(fit_prediction_test, y_test)))\n",
    "\n",
    "accuracy = accuracy_score(fit_prediction_test, y_test)\n",
    "\n",
    "f1 = f1_score(fit_prediction_test, y_test)\n",
    "\n",
    "tn, fp, fn, tp = confusion_matrix(y_test, fit.predict(X_test)).ravel()\n",
    "\n",
    "specificity = tn / (tn+fp)\n",
    "sensitivity = tp / (tp+fn)\n",
    "print('Specificity', specificity)\n",
    "print('Sensitivity', sensitivity)\n",
    "print('F1', f1)"
   ]
  },
  {
   "cell_type": "code",
   "execution_count": 31,
   "metadata": {},
   "outputs": [
    {
     "data": {
      "image/png": "[encoded data removed]",
      "text/plain": [
       "<Figure size 432x288 with 1 Axes>"
      ]
     },
     "metadata": {
      "needs_background": "light"
     },
     "output_type": "display_data"
    }
   ],
   "source": [
    "feat_importances = pd.Series(abs(logreg_model.coef_[0]), index=X_train.columns)\n",
    "feat_importances.sort_values(ascending=False,inplace=True)\n",
    "feat_importances.plot(kind='barh').invert_yaxis()"
   ]
  },
  {
   "cell_type": "code",
   "execution_count": 32,
   "metadata": {},
   "outputs": [
    {
     "name": "stdout",
     "output_type": "stream",
     "text": [
      "AUC 0.7631593443814009\n"
     ]
    },
    {
     "data": {
      "image/png": "[encoded data removed]",
      "text/plain": [
       "<Figure size 432x288 with 1 Axes>"
      ]
     },
     "metadata": {
      "needs_background": "light"
     },
     "output_type": "display_data"
    }
   ],
   "source": [
    "y_pred_proba = fit.predict_proba(X_test)[::,1]\n",
    "auc = metrics.roc_auc_score(y_test, y_pred_proba)\n",
    "fpr, tpr, _ = metrics.roc_curve(y_test,  y_pred_proba)\n",
    "print('AUC', auc)\n",
    "\n",
    "#create ROC curve\n",
    "plt.plot(fpr,tpr)\n",
    "plt.ylabel('True Positive Rate')\n",
    "plt.xlabel('False Positive Rate')\n",
    "plt.show()"
   ]
  },
  {
   "cell_type": "code",
   "execution_count": 33,
   "metadata": {},
   "outputs": [],
   "source": [
    "filename = '/Users/pahulpreetsingh/Downloads/DIC/Project/data/lr_nosmote_model.sav'\n",
    "with open(filename,\"wb\") as f:\n",
    "    pickle.dump(fit, f)\n",
    "    pickle.dump(accuracy, f)\n",
    "    pickle.dump(f1, f)\n",
    "    pickle.dump(specificity, f)\n",
    "    pickle.dump(sensitivity, f)\n",
    "    pickle.dump(auc, f)\n",
    "    pickle.dump(feat_importances, f)\n",
    "    pickle.dump(fpr, f)\n",
    "    pickle.dump(tpr, f)"
   ]
  },
  {
   "cell_type": "markdown",
   "metadata": {},
   "source": [
    "Random Forest"
   ]
  },
  {
   "cell_type": "code",
   "execution_count": 34,
   "metadata": {},
   "outputs": [
    {
     "name": "stdout",
     "output_type": "stream",
     "text": [
      "Accuracy Score for testing set :0.844\n",
      "Specificity 0.9771137952956135\n",
      "Sensitivity 0.35362997658079626\n",
      "F1 0.4918566775244299\n"
     ]
    }
   ],
   "source": [
    "# using RandomForestClassifier algorithm to to fit it on the resampled data\n",
    "\n",
    "rf = RandomForestClassifier(n_jobs=-1, n_estimators=400, max_depth=6)\n",
    "rf_fit = rf.fit(X_train, y_train)\n",
    "rf_prediction_train_ = rf_fit.predict(X_train)\n",
    "rf_prediction_test = rf_fit.predict(X_test)\n",
    "\n",
    "#validation of RandomForestClassifier\n",
    "print('Accuracy Score for testing set :' +'{}'.format(accuracy_score(rf_prediction_test, y_test)))\n",
    "accuracy = accuracy_score(rf_prediction_test, y_test)\n",
    "\n",
    "f1 = f1_score(rf_prediction_test, y_test)\n",
    "\n",
    "tn, fp, fn, tp = confusion_matrix(y_test, rf_fit.predict(X_test)).ravel()\n",
    "\n",
    "specificity = tn / (tn+fp)\n",
    "sensitivity = tp / (tp+fn)\n",
    "print('Specificity', specificity)\n",
    "print('Sensitivity', sensitivity)\n",
    "print('F1', f1)"
   ]
  },
  {
   "cell_type": "code",
   "execution_count": 35,
   "metadata": {},
   "outputs": [
    {
     "data": {
      "image/png": "[encoded data removed]",
      "text/plain": [
       "<Figure size 432x288 with 1 Axes>"
      ]
     },
     "metadata": {
      "needs_background": "light"
     },
     "output_type": "display_data"
    }
   ],
   "source": [
    "feat_importances = pd.Series(rf.feature_importances_, index=X_train.columns)\n",
    "feat_importances.sort_values(ascending=False,inplace=True)\n",
    "feat_importances.plot(kind='barh').invert_yaxis()"
   ]
  },
  {
   "cell_type": "code",
   "execution_count": 36,
   "metadata": {},
   "outputs": [
    {
     "name": "stdout",
     "output_type": "stream",
     "text": [
      "AUC 0.8315633695663502\n"
     ]
    },
    {
     "data": {
      "image/png": "[encoded data removed]",
      "text/plain": [
       "<Figure size 432x288 with 1 Axes>"
      ]
     },
     "metadata": {
      "needs_background": "light"
     },
     "output_type": "display_data"
    }
   ],
   "source": [
    "y_pred_proba = rf.predict_proba(X_test)[::,1]\n",
    "auc = metrics.roc_auc_score(y_test, y_pred_proba)\n",
    "fpr, tpr, _ = metrics.roc_curve(y_test,  y_pred_proba)\n",
    "print('AUC', auc)\n",
    "\n",
    "#create ROC curve\n",
    "plt.plot(fpr,tpr)\n",
    "plt.ylabel('True Positive Rate')\n",
    "plt.xlabel('False Positive Rate')\n",
    "plt.show()"
   ]
  },
  {
   "cell_type": "code",
   "execution_count": 37,
   "metadata": {},
   "outputs": [],
   "source": [
    "filename = '/Users/pahulpreetsingh/Downloads/DIC/Project/data/rf_nosmote_model.sav'\n",
    "with open(filename,\"wb\") as f:\n",
    "    pickle.dump(rf_fit, f)\n",
    "    pickle.dump(accuracy, f)\n",
    "    pickle.dump(f1, f)\n",
    "    pickle.dump(specificity, f)\n",
    "    pickle.dump(sensitivity, f)\n",
    "    pickle.dump(auc, f)\n",
    "    pickle.dump(feat_importances, f)\n",
    "    pickle.dump(fpr, f)\n",
    "    pickle.dump(tpr, f)"
   ]
  },
  {
   "cell_type": "markdown",
   "metadata": {},
   "source": [
    "Extreme Gradient Boosting"
   ]
  },
  {
   "cell_type": "code",
   "execution_count": 38,
   "metadata": {},
   "outputs": [
    {
     "name": "stderr",
     "output_type": "stream",
     "text": [
      "/Library/Frameworks/Python.framework/Versions/3.10/lib/python3.10/site-packages/xgboost/data.py:173: FutureWarning: pandas.Int64Index is deprecated and will be removed from pandas in a future version. Use pandas.Index with the appropriate dtype instead.\n",
      "  from pandas import MultiIndex, Int64Index\n"
     ]
    },
    {
     "name": "stdout",
     "output_type": "stream",
     "text": [
      "Accuracy Score for testing set :0.852\n",
      "Specificity 0.9637635092180546\n",
      "Sensitivity 0.44028103044496486\n",
      "F1 0.5595238095238095\n"
     ]
    },
    {
     "name": "stderr",
     "output_type": "stream",
     "text": [
      "/Library/Frameworks/Python.framework/Versions/3.10/lib/python3.10/site-packages/xgboost/data.py:173: FutureWarning: pandas.Int64Index is deprecated and will be removed from pandas in a future version. Use pandas.Index with the appropriate dtype instead.\n",
      "  from pandas import MultiIndex, Int64Index\n"
     ]
    }
   ],
   "source": [
    "gb = XGBClassifier(n_jobs=-1, random_state=42, n_estimators=200, max_depth=3, learning_rate=0.1, eval_metric='logloss')\n",
    "gb_fit = gb.fit(X_train, y_train)\n",
    "gb_prediction_train_ = gb_fit.predict(X_train)\n",
    "gb_prediction_test = gb_fit.predict(X_test)\n",
    "\n",
    "#validation of GradientBoostingClassifier\n",
    "print('Accuracy Score for testing set :' +'{}'.format(accuracy_score(gb_prediction_test, y_test)))\n",
    "\n",
    "accuracy = accuracy_score(gb_prediction_test, y_test)\n",
    "f1 = f1_score(gb_prediction_test, y_test)\n",
    "\n",
    "tn, fp, fn, tp = confusion_matrix(y_test, gb_fit.predict(X_test)).ravel()\n",
    "\n",
    "specificity = tn / (tn+fp)\n",
    "sensitivity = tp / (tp+fn)\n",
    "print('Specificity', specificity)\n",
    "print('Sensitivity', sensitivity)\n",
    "print('F1', f1)"
   ]
  },
  {
   "cell_type": "code",
   "execution_count": 39,
   "metadata": {},
   "outputs": [
    {
     "data": {
      "image/png": "[encoded data removed]",
      "text/plain": [
       "<Figure size 432x288 with 1 Axes>"
      ]
     },
     "metadata": {
      "needs_background": "light"
     },
     "output_type": "display_data"
    }
   ],
   "source": [
    "feat_importances = pd.Series(gb.feature_importances_, index=X_train.columns)\n",
    "feat_importances.sort_values(ascending=False,inplace=True)\n",
    "feat_importances.plot(kind='barh').invert_yaxis()"
   ]
  },
  {
   "cell_type": "code",
   "execution_count": 40,
   "metadata": {},
   "outputs": [
    {
     "name": "stdout",
     "output_type": "stream",
     "text": [
      "AUC 0.8426714864866877\n"
     ]
    },
    {
     "name": "stderr",
     "output_type": "stream",
     "text": [
      "/Library/Frameworks/Python.framework/Versions/3.10/lib/python3.10/site-packages/xgboost/data.py:173: FutureWarning: pandas.Int64Index is deprecated and will be removed from pandas in a future version. Use pandas.Index with the appropriate dtype instead.\n",
      "  from pandas import MultiIndex, Int64Index\n"
     ]
    },
    {
     "data": {
      "image/png": "[encoded data removed]",
      "text/plain": [
       "<Figure size 432x288 with 1 Axes>"
      ]
     },
     "metadata": {
      "needs_background": "light"
     },
     "output_type": "display_data"
    }
   ],
   "source": [
    "y_pred_proba = gb.predict_proba(X_test)[::,1]\n",
    "auc = metrics.roc_auc_score(y_test, y_pred_proba)\n",
    "fpr, tpr, _ = metrics.roc_curve(y_test,  y_pred_proba)\n",
    "print('AUC', auc)\n",
    "\n",
    "#create ROC curve\n",
    "plt.plot(fpr,tpr)\n",
    "plt.ylabel('True Positive Rate')\n",
    "plt.xlabel('False Positive Rate')\n",
    "plt.show()"
   ]
  },
  {
   "cell_type": "code",
   "execution_count": 41,
   "metadata": {},
   "outputs": [],
   "source": [
    "filename = '/Users/pahulpreetsingh/Downloads/DIC/Project/data/xgb_nosmote_model.sav'\n",
    "with open(filename,\"wb\") as f:\n",
    "    pickle.dump(gb_fit, f)\n",
    "    pickle.dump(accuracy, f)\n",
    "    pickle.dump(f1, f)\n",
    "    pickle.dump(specificity, f)\n",
    "    pickle.dump(sensitivity, f)\n",
    "    pickle.dump(auc, f)\n",
    "    pickle.dump(feat_importances, f)\n",
    "    pickle.dump(fpr, f)\n",
    "    pickle.dump(tpr, f)"
   ]
  },
  {
   "cell_type": "code",
   "execution_count": 42,
   "metadata": {},
   "outputs": [
    {
     "name": "stdout",
     "output_type": "stream",
     "text": [
      "Accuracy Score for testing set :0.8025\n",
      "Specificity 0.9879211697393515\n",
      "Sensitivity 0.11943793911007025\n",
      "F1 0.20523138832997986\n"
     ]
    }
   ],
   "source": [
    "svm = SVC(random_state=42, C=1, kernel='poly', degree=4, probability=True)\n",
    "svm_fit = svm.fit(X_train, y_train)\n",
    "svm_prediction_train_ = svm_fit.predict(X_train)\n",
    "svm_prediction_test = svm_fit.predict(X_test)\n",
    "\n",
    "#validation of GradientBoostingClassifier\n",
    "print('Accuracy Score for testing set :' +'{}'.format(accuracy_score(svm_prediction_test, y_test)))\n",
    "\n",
    "accuracy = accuracy_score(svm_prediction_test, y_test)\n",
    "\n",
    "f1 = f1_score(svm_prediction_test, y_test)\n",
    "\n",
    "tn, fp, fn, tp = confusion_matrix(y_test, svm_fit.predict(X_test)).ravel()\n",
    "\n",
    "specificity = tn / (tn+fp)\n",
    "sensitivity = tp / (tp+fn)\n",
    "print('Specificity', specificity)\n",
    "print('Sensitivity', sensitivity)\n",
    "print('F1', f1)"
   ]
  },
  {
   "cell_type": "markdown",
   "metadata": {},
   "source": [
    "Running all models after smote"
   ]
  },
  {
   "cell_type": "code",
   "execution_count": 43,
   "metadata": {},
   "outputs": [
    {
     "data": {
      "image/png": "[encoded data removed]",
      "text/plain": [
       "<Figure size 432x288 with 1 Axes>"
      ]
     },
     "metadata": {
      "needs_background": "light"
     },
     "output_type": "display_data"
    }
   ],
   "source": [
    "perm_importance = permutation_importance(svm, X_train, y_train)\n",
    "features = np.array(X_train.columns)\n",
    "sorted_idx = perm_importance.importances_mean.argsort()\n",
    "feat_importances = pd.Series(abs(perm_importance.importances_mean[sorted_idx]), index=features[sorted_idx])\n",
    "feat_importances.sort_values(ascending=False,inplace=True)\n",
    "feat_importances.plot(kind='barh').invert_yaxis()"
   ]
  },
  {
   "cell_type": "code",
   "execution_count": 44,
   "metadata": {},
   "outputs": [
    {
     "name": "stdout",
     "output_type": "stream",
     "text": [
      "AUC 0.7508423022580996\n"
     ]
    },
    {
     "data": {
      "image/png": "[encoded data removed]",
      "text/plain": [
       "<Figure size 432x288 with 1 Axes>"
      ]
     },
     "metadata": {
      "needs_background": "light"
     },
     "output_type": "display_data"
    }
   ],
   "source": [
    "y_pred_proba = svm.predict_proba(X_test)[::,1]\n",
    "auc = metrics.roc_auc_score(y_test, y_pred_proba)\n",
    "fpr, tpr, _ = metrics.roc_curve(y_test,  y_pred_proba)\n",
    "print('AUC', auc)\n",
    "\n",
    "#create ROC curve\n",
    "plt.plot(fpr,tpr)\n",
    "plt.ylabel('True Positive Rate')\n",
    "plt.xlabel('False Positive Rate')\n",
    "plt.show()"
   ]
  },
  {
   "cell_type": "code",
   "execution_count": 45,
   "metadata": {},
   "outputs": [],
   "source": [
    "filename = '/Users/pahulpreetsingh/Downloads/DIC/Project/data/svm_nosmote_model.sav'\n",
    "with open(filename,\"wb\") as f:\n",
    "    pickle.dump(svm_fit, f)\n",
    "    pickle.dump(accuracy, f)\n",
    "    pickle.dump(f1, f)\n",
    "    pickle.dump(specificity, f)\n",
    "    pickle.dump(sensitivity, f)\n",
    "    pickle.dump(auc, f)\n",
    "    pickle.dump(feat_importances, f)\n",
    "    pickle.dump(fpr, f)\n",
    "    pickle.dump(tpr, f)"
   ]
  },
  {
   "cell_type": "code",
   "execution_count": 46,
   "metadata": {},
   "outputs": [],
   "source": [
    "from imblearn.over_sampling import SMOTE\n",
    "sm = SMOTE(random_state = 2)\n",
    "X_train_res, y_train_res = sm.fit_resample(X_train, y_train.ravel())"
   ]
  },
  {
   "cell_type": "markdown",
   "metadata": {},
   "source": [
    "SVM"
   ]
  },
  {
   "cell_type": "code",
   "execution_count": 47,
   "metadata": {},
   "outputs": [
    {
     "name": "stdout",
     "output_type": "stream",
     "text": [
      "Accuracy Score for testing set :0.7185\n",
      "Specificity 0.7310870947234583\n",
      "Sensitivity 0.6721311475409836\n",
      "F1 0.20523138832997986\n"
     ]
    }
   ],
   "source": [
    "svm = SVC(random_state=42, C=1, kernel='poly', degree=4, probability=True)\n",
    "svm_fit = svm.fit(X_train_res, y_train_res)\n",
    "svm_prediction_train_ = svm_fit.predict(X_train_res)\n",
    "svm_prediction_test = svm_fit.predict(X_test)\n",
    "\n",
    "#validation of GradientBoostingClassifier\n",
    "print('Accuracy Score for testing set :' +'{}'.format(accuracy_score(svm_prediction_test, y_test)))\n",
    "\n",
    "svm_accuracy = accuracy_score(svm_prediction_test, y_test)\n",
    "\n",
    "svm_f1 = f1_score(svm_prediction_test, y_test)\n",
    "\n",
    "tn, fp, fn, tp = confusion_matrix(y_test, svm_fit.predict(X_test)).ravel()\n",
    "\n",
    "svm_specificity = tn / (tn+fp)\n",
    "svm_sensitivity = tp / (tp+fn)\n",
    "print('Specificity', svm_specificity)\n",
    "print('Sensitivity', svm_sensitivity)\n",
    "print('F1', f1)"
   ]
  },
  {
   "cell_type": "code",
   "execution_count": 48,
   "metadata": {},
   "outputs": [
    {
     "data": {
      "image/png": "[encoded data removed]",
      "text/plain": [
       "<Figure size 432x288 with 1 Axes>"
      ]
     },
     "metadata": {
      "needs_background": "light"
     },
     "output_type": "display_data"
    }
   ],
   "source": [
    "perm_importance = permutation_importance(svm, X_train_res, y_train_res)\n",
    "features = np.array(X_train_res.columns)\n",
    "sorted_idx = perm_importance.importances_mean.argsort()\n",
    "feat_importances = pd.Series(abs(perm_importance.importances_mean[sorted_idx]), index=features[sorted_idx])\n",
    "feat_importances.sort_values(ascending=False,inplace=True)\n",
    "feat_importances.plot(kind='barh').invert_yaxis()"
   ]
  },
  {
   "cell_type": "code",
   "execution_count": 49,
   "metadata": {},
   "outputs": [
    {
     "name": "stdout",
     "output_type": "stream",
     "text": [
      "AUC 0.7647791850474414\n"
     ]
    },
    {
     "data": {
      "image/png": "[encoded data removed]",
      "text/plain": [
       "<Figure size 432x288 with 1 Axes>"
      ]
     },
     "metadata": {
      "needs_background": "light"
     },
     "output_type": "display_data"
    }
   ],
   "source": [
    "y_pred_proba = svm.predict_proba(X_test)[::,1]\n",
    "auc = metrics.roc_auc_score(y_test, y_pred_proba)\n",
    "fpr, tpr, _ = metrics.roc_curve(y_test,  y_pred_proba)\n",
    "print('AUC', auc)\n",
    "\n",
    "#create ROC curve\n",
    "plt.plot(fpr,tpr)\n",
    "plt.ylabel('True Positive Rate')\n",
    "plt.xlabel('False Positive Rate')\n",
    "plt.show()"
   ]
  },
  {
   "cell_type": "code",
   "execution_count": 50,
   "metadata": {},
   "outputs": [],
   "source": [
    "filename = '/Users/pahulpreetsingh/Downloads/DIC/Project/data/svm_model.sav'\n",
    "with open(filename,\"wb\") as f:\n",
    "    pickle.dump(svm_fit, f)\n",
    "    pickle.dump(svm_accuracy, f)\n",
    "    pickle.dump(svm_f1, f)\n",
    "    pickle.dump(svm_specificity, f)\n",
    "    pickle.dump(svm_sensitivity, f)\n",
    "    pickle.dump(auc, f)\n",
    "    pickle.dump(feat_importances, f)\n",
    "    pickle.dump(fpr, f)\n",
    "    pickle.dump(tpr, f)"
   ]
  },
  {
   "cell_type": "markdown",
   "metadata": {},
   "source": [
    "Extreme Gradient Boost"
   ]
  },
  {
   "cell_type": "code",
   "execution_count": 51,
   "metadata": {},
   "outputs": [
    {
     "name": "stderr",
     "output_type": "stream",
     "text": [
      "/Library/Frameworks/Python.framework/Versions/3.10/lib/python3.10/site-packages/xgboost/data.py:173: FutureWarning: pandas.Int64Index is deprecated and will be removed from pandas in a future version. Use pandas.Index with the appropriate dtype instead.\n",
      "  from pandas import MultiIndex, Int64Index\n"
     ]
    },
    {
     "name": "stdout",
     "output_type": "stream",
     "text": [
      "Accuracy Score for testing set :0.8385\n",
      "Specificity 0.9033693579148124\n",
      "Sensitivity 0.5995316159250585\n",
      "F1 0.20523138832997986\n"
     ]
    },
    {
     "name": "stderr",
     "output_type": "stream",
     "text": [
      "/Library/Frameworks/Python.framework/Versions/3.10/lib/python3.10/site-packages/xgboost/data.py:173: FutureWarning: pandas.Int64Index is deprecated and will be removed from pandas in a future version. Use pandas.Index with the appropriate dtype instead.\n",
      "  from pandas import MultiIndex, Int64Index\n"
     ]
    }
   ],
   "source": [
    "gb = XGBClassifier(n_jobs=-1, random_state=42, n_estimators=200, max_depth=3, learning_rate=0.1, eval_metric='logloss')\n",
    "gb_fit = gb.fit(X_train_res, y_train_res)\n",
    "gb_prediction_train_ = gb_fit.predict(X_train_res)\n",
    "gb_prediction_test = gb_fit.predict(X_test)\n",
    "\n",
    "#validation of GradientBoostingClassifier\n",
    "print('Accuracy Score for testing set :' +'{}'.format(accuracy_score(gb_prediction_test, y_test)))\n",
    "\n",
    "xgb_accuracy = accuracy_score(gb_prediction_test, y_test)\n",
    "\n",
    "xgb_f1 = f1_score(gb_prediction_test, y_test)\n",
    "\n",
    "tn, fp, fn, tp = confusion_matrix(y_test, gb_fit.predict(X_test)).ravel()\n",
    "\n",
    "xgb_specificity = tn / (tn+fp)\n",
    "xgb_sensitivity = tp / (tp+fn)\n",
    "print('Specificity', xgb_specificity)\n",
    "print('Sensitivity', xgb_sensitivity)\n",
    "print('F1', f1)"
   ]
  },
  {
   "cell_type": "code",
   "execution_count": 52,
   "metadata": {},
   "outputs": [
    {
     "data": {
      "image/png": "[encoded data removed]",
      "text/plain": [
       "<Figure size 432x288 with 1 Axes>"
      ]
     },
     "metadata": {
      "needs_background": "light"
     },
     "output_type": "display_data"
    }
   ],
   "source": [
    "feat_importances = pd.Series(gb.feature_importances_, index=X_train_res.columns)\n",
    "feat_importances.sort_values(ascending=False,inplace=True)\n",
    "feat_importances.plot(kind='barh').invert_yaxis()"
   ]
  },
  {
   "cell_type": "code",
   "execution_count": 53,
   "metadata": {},
   "outputs": [
    {
     "name": "stdout",
     "output_type": "stream",
     "text": [
      "AUC 0.847164013333909\n"
     ]
    },
    {
     "name": "stderr",
     "output_type": "stream",
     "text": [
      "/Library/Frameworks/Python.framework/Versions/3.10/lib/python3.10/site-packages/xgboost/data.py:173: FutureWarning: pandas.Int64Index is deprecated and will be removed from pandas in a future version. Use pandas.Index with the appropriate dtype instead.\n",
      "  from pandas import MultiIndex, Int64Index\n"
     ]
    },
    {
     "data": {
      "image/png": "[encoded data removed]",
      "text/plain": [
       "<Figure size 432x288 with 1 Axes>"
      ]
     },
     "metadata": {
      "needs_background": "light"
     },
     "output_type": "display_data"
    }
   ],
   "source": [
    "y_pred_proba = gb.predict_proba(X_test)[::,1]\n",
    "auc = metrics.roc_auc_score(y_test, y_pred_proba)\n",
    "fpr, tpr, _ = metrics.roc_curve(y_test,  y_pred_proba)\n",
    "print('AUC', auc)\n",
    "\n",
    "#create ROC curve\n",
    "plt.plot(fpr,tpr)\n",
    "plt.ylabel('True Positive Rate')\n",
    "plt.xlabel('False Positive Rate')\n",
    "plt.show()"
   ]
  },
  {
   "cell_type": "code",
   "execution_count": 54,
   "metadata": {},
   "outputs": [],
   "source": [
    "filename = '/Users/pahulpreetsingh/Downloads/DIC/Project/data/xgb_model.sav'\n",
    "with open(filename,\"wb\") as f:\n",
    "    pickle.dump(gb_fit, f)\n",
    "    pickle.dump(xgb_accuracy, f)\n",
    "    pickle.dump(xgb_f1, f)\n",
    "    pickle.dump(xgb_specificity, f)\n",
    "    pickle.dump(xgb_sensitivity, f)\n",
    "    pickle.dump(auc, f)\n",
    "    pickle.dump(feat_importances, f)\n",
    "    pickle.dump(fpr, f)\n",
    "    pickle.dump(tpr, f)"
   ]
  },
  {
   "cell_type": "code",
   "execution_count": 55,
   "metadata": {},
   "outputs": [
    {
     "name": "stdout",
     "output_type": "stream",
     "text": [
      "Accuracy Score for testing set :0.78\n",
      "Specificity 0.803560076287349\n",
      "Sensitivity 0.6932084309133489\n",
      "F1 0.20523138832997986\n"
     ]
    }
   ],
   "source": [
    "# using RandomForestClassifier algorithm to to fit it on the resampled data\n",
    "rf = RandomForestClassifier(n_estimators=400, n_jobs=-1, max_depth=6)\n",
    "rf_fit = rf.fit(X_train_res, y_train_res)\n",
    "rf_prediction_train_ = rf_fit.predict(X_train_res)\n",
    "rf_prediction_test = rf_fit.predict(X_test)\n",
    "\n",
    "#validation of RandomForestClassifier\n",
    "print('Accuracy Score for testing set :' +'{}'.format(accuracy_score(rf_prediction_test, y_test)))\n",
    "\n",
    "rf_accuracy = accuracy_score(rf_prediction_test, y_test)\n",
    "\n",
    "rf_f1 = f1_score(rf_prediction_test, y_test)\n",
    "\n",
    "tn, fp, fn, tp = confusion_matrix(y_test, rf_fit.predict(X_test)).ravel()\n",
    "\n",
    "rf_specificity = tn / (tn+fp)\n",
    "rf_sensitivity = tp / (tp+fn)\n",
    "print('Specificity', rf_specificity)\n",
    "print('Sensitivity', rf_sensitivity)\n",
    "print('F1', f1)"
   ]
  },
  {
   "cell_type": "code",
   "execution_count": 56,
   "metadata": {},
   "outputs": [
    {
     "data": {
      "image/png": "[encoded data removed]",
      "text/plain": [
       "<Figure size 432x288 with 1 Axes>"
      ]
     },
     "metadata": {
      "needs_background": "light"
     },
     "output_type": "display_data"
    }
   ],
   "source": [
    "feat_importances = pd.Series(rf.feature_importances_, index=X_train_res.columns)\n",
    "feat_importances.sort_values(ascending=False,inplace=True)\n",
    "feat_importances.plot(kind='barh').invert_yaxis()"
   ]
  },
  {
   "cell_type": "code",
   "execution_count": 57,
   "metadata": {},
   "outputs": [
    {
     "name": "stdout",
     "output_type": "stream",
     "text": [
      "AUC 0.8315723025111997\n"
     ]
    },
    {
     "data": {
      "image/png": "[encoded data removed]",
      "text/plain": [
       "<Figure size 432x288 with 1 Axes>"
      ]
     },
     "metadata": {
      "needs_background": "light"
     },
     "output_type": "display_data"
    }
   ],
   "source": [
    "y_pred_proba = rf.predict_proba(X_test)[::,1]\n",
    "auc = metrics.roc_auc_score(y_test, y_pred_proba)\n",
    "fpr, tpr, _ = metrics.roc_curve(y_test,  y_pred_proba)\n",
    "print('AUC', auc)\n",
    "\n",
    "#create ROC curve\n",
    "plt.plot(fpr,tpr)\n",
    "plt.ylabel('True Positive Rate')\n",
    "plt.xlabel('False Positive Rate')\n",
    "plt.show()"
   ]
  },
  {
   "cell_type": "code",
   "execution_count": 58,
   "metadata": {},
   "outputs": [],
   "source": [
    "filename = '/Users/pahulpreetsingh/Downloads/DIC/Project/data/rf_model.sav'\n",
    "with open(filename,\"wb\") as f:\n",
    "    pickle.dump(rf_fit, f)\n",
    "    pickle.dump(rf_accuracy, f)\n",
    "    pickle.dump(rf_f1, f)\n",
    "    pickle.dump(rf_specificity, f)\n",
    "    pickle.dump(rf_sensitivity, f)\n",
    "    pickle.dump(auc, f)\n",
    "    pickle.dump(feat_importances, f)\n",
    "    pickle.dump(fpr, f)\n",
    "    pickle.dump(tpr, f)"
   ]
  },
  {
   "cell_type": "code",
   "execution_count": 59,
   "metadata": {},
   "outputs": [
    {
     "name": "stdout",
     "output_type": "stream",
     "text": [
      "Accuracy Score for testing set :0.691\n",
      "Specificity 0.6846789574062301\n",
      "Sensitivity 0.7142857142857143\n",
      "F1 0.20523138832997986\n"
     ]
    }
   ],
   "source": [
    "# using Logistic Regresiion algorithm to build first model\n",
    "logreg_model = LogisticRegression(solver='liblinear', random_state=42, C=0.8)\n",
    "fit = logreg_model.fit(X_train_res, y_train_res)\n",
    "fit_prediction_train = fit.predict(X_train_res)\n",
    "fit_prediction_test = fit.predict(X_test)\n",
    "\n",
    "#validation of  Logistic Regresiion\n",
    "print('Accuracy Score for testing set :' +'{}'.format(accuracy_score(fit_prediction_test, y_test)))\n",
    "\n",
    "lr_accuracy = accuracy_score(fit_prediction_test, y_test)\n",
    "\n",
    "lr_f1 = f1_score(fit_prediction_test, y_test)\n",
    "\n",
    "tn, fp, fn, tp = confusion_matrix(y_test, fit.predict(X_test)).ravel()\n",
    "\n",
    "lr_specificity = tn / (tn+fp)\n",
    "lr_sensitivity = tp / (tp+fn)\n",
    "print('Specificity', lr_specificity)\n",
    "print('Sensitivity', lr_sensitivity)\n",
    "print('F1', f1)"
   ]
  },
  {
   "cell_type": "code",
   "execution_count": 60,
   "metadata": {},
   "outputs": [
    {
     "data": {
      "image/png": "[encoded data removed]",
      "text/plain": [
       "<Figure size 432x288 with 1 Axes>"
      ]
     },
     "metadata": {
      "needs_background": "light"
     },
     "output_type": "display_data"
    }
   ],
   "source": [
    "feat_importances = pd.Series(abs(logreg_model.coef_[0]), index=X_train_res.columns)\n",
    "feat_importances.sort_values(ascending=False,inplace=True)\n",
    "feat_importances.plot(kind='barh').invert_yaxis()"
   ]
  },
  {
   "cell_type": "code",
   "execution_count": 61,
   "metadata": {},
   "outputs": [
    {
     "name": "stdout",
     "output_type": "stream",
     "text": [
      "AUC 0.7671538595532633\n"
     ]
    },
    {
     "data": {
      "image/png": "[encoded data removed]",
      "text/plain": [
       "<Figure size 432x288 with 1 Axes>"
      ]
     },
     "metadata": {
      "needs_background": "light"
     },
     "output_type": "display_data"
    }
   ],
   "source": [
    "y_pred_proba = fit.predict_proba(X_test)[::,1]\n",
    "auc = metrics.roc_auc_score(y_test, y_pred_proba)\n",
    "fpr, tpr, _ = metrics.roc_curve(y_test,  y_pred_proba)\n",
    "print('AUC', auc)\n",
    "\n",
    "#create ROC curve\n",
    "plt.plot(fpr,tpr)\n",
    "plt.ylabel('True Positive Rate')\n",
    "plt.xlabel('False Positive Rate')\n",
    "plt.show()"
   ]
  },
  {
   "cell_type": "code",
   "execution_count": 62,
   "metadata": {},
   "outputs": [],
   "source": [
    "filename = '/Users/pahulpreetsingh/Downloads/DIC/Project/data/lr_model.sav'\n",
    "with open(filename,\"wb\") as f:\n",
    "    pickle.dump(fit, f)\n",
    "    pickle.dump(lr_accuracy, f)\n",
    "    pickle.dump(lr_f1, f)\n",
    "    pickle.dump(lr_specificity, f)\n",
    "    pickle.dump(lr_sensitivity, f)\n",
    "    pickle.dump(auc, f)\n",
    "    pickle.dump(feat_importances, f)\n",
    "    pickle.dump(fpr, f)\n",
    "    pickle.dump(tpr, f)"
   ]
  },
  {
   "cell_type": "code",
   "execution_count": 63,
   "metadata": {},
   "outputs": [
    {
     "name": "stdout",
     "output_type": "stream",
     "text": [
      "LogisticRegression(C=0.8, random_state=42, solver='liblinear')\n"
     ]
    }
   ],
   "source": [
    "filename = '/Users/pahulpreetsingh/Downloads/DIC/Project/data/lr_model.sav'\n",
    "with open(filename, \"rb\") as f:\n",
    "    model = pickle.load(f)\n",
    "\n",
    "print(model)"
   ]
  }
 ],
 "metadata": {
  "interpreter": {
   "hash": "aee8b7b246df8f9039afb4144a1f6fd8d2ca17a180786b69acc140d282b71a49"
  },
  "kernelspec": {
   "display_name": "Python 3.10.2 64-bit",
   "language": "python",
   "name": "python3"
  },
  "language_info": {
   "codemirror_mode": {
    "name": "ipython",
    "version": 3
   },
   "file_extension": ".py",
   "mimetype": "text/x-python",
   "name": "python",
   "nbconvert_exporter": "python",
   "pygments_lexer": "ipython3",
   "version": "3.10.2"
  },
  "orig_nbformat": 4
 },
 "nbformat": 4,
 "nbformat_minor": 2
}
